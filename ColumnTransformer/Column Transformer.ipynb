{
 "cells": [
  {
   "cell_type": "code",
   "execution_count": 4,
   "id": "3b5ce37e-316e-4380-b099-38b44249de45",
   "metadata": {},
   "outputs": [],
   "source": [
    "import numpy as np\n",
    "import pandas as pd"
   ]
  },
  {
   "cell_type": "code",
   "execution_count": 7,
   "id": "c846ad99-5b51-40dd-90e7-f7d2637dfd2a",
   "metadata": {},
   "outputs": [],
   "source": [
    "df = pd.read_csv(\"covid_toy.csv\")"
   ]
  },
  {
   "cell_type": "code",
   "execution_count": 10,
   "id": "81a0cc2e-39ab-47fc-ba08-622f13f19451",
   "metadata": {},
   "outputs": [
    {
     "data": {
      "text/html": [
       "<div>\n",
       "<style scoped>\n",
       "    .dataframe tbody tr th:only-of-type {\n",
       "        vertical-align: middle;\n",
       "    }\n",
       "\n",
       "    .dataframe tbody tr th {\n",
       "        vertical-align: top;\n",
       "    }\n",
       "\n",
       "    .dataframe thead th {\n",
       "        text-align: right;\n",
       "    }\n",
       "</style>\n",
       "<table border=\"1\" class=\"dataframe\">\n",
       "  <thead>\n",
       "    <tr style=\"text-align: right;\">\n",
       "      <th></th>\n",
       "      <th>age</th>\n",
       "      <th>gender</th>\n",
       "      <th>fever</th>\n",
       "      <th>cough</th>\n",
       "      <th>city</th>\n",
       "      <th>has_covid</th>\n",
       "    </tr>\n",
       "  </thead>\n",
       "  <tbody>\n",
       "    <tr>\n",
       "      <th>0</th>\n",
       "      <td>60</td>\n",
       "      <td>Male</td>\n",
       "      <td>103.0</td>\n",
       "      <td>Mild</td>\n",
       "      <td>Kolkata</td>\n",
       "      <td>No</td>\n",
       "    </tr>\n",
       "    <tr>\n",
       "      <th>1</th>\n",
       "      <td>27</td>\n",
       "      <td>Male</td>\n",
       "      <td>100.0</td>\n",
       "      <td>Mild</td>\n",
       "      <td>Delhi</td>\n",
       "      <td>Yes</td>\n",
       "    </tr>\n",
       "    <tr>\n",
       "      <th>2</th>\n",
       "      <td>42</td>\n",
       "      <td>Male</td>\n",
       "      <td>101.0</td>\n",
       "      <td>Mild</td>\n",
       "      <td>Delhi</td>\n",
       "      <td>No</td>\n",
       "    </tr>\n",
       "    <tr>\n",
       "      <th>3</th>\n",
       "      <td>31</td>\n",
       "      <td>Female</td>\n",
       "      <td>98.0</td>\n",
       "      <td>Mild</td>\n",
       "      <td>Kolkata</td>\n",
       "      <td>No</td>\n",
       "    </tr>\n",
       "    <tr>\n",
       "      <th>4</th>\n",
       "      <td>65</td>\n",
       "      <td>Female</td>\n",
       "      <td>101.0</td>\n",
       "      <td>Mild</td>\n",
       "      <td>Mumbai</td>\n",
       "      <td>No</td>\n",
       "    </tr>\n",
       "  </tbody>\n",
       "</table>\n",
       "</div>"
      ],
      "text/plain": [
       "   age  gender  fever cough     city has_covid\n",
       "0   60    Male  103.0  Mild  Kolkata        No\n",
       "1   27    Male  100.0  Mild    Delhi       Yes\n",
       "2   42    Male  101.0  Mild    Delhi        No\n",
       "3   31  Female   98.0  Mild  Kolkata        No\n",
       "4   65  Female  101.0  Mild   Mumbai        No"
      ]
     },
     "execution_count": 10,
     "metadata": {},
     "output_type": "execute_result"
    }
   ],
   "source": [
    "df.head()"
   ]
  },
  {
   "cell_type": "code",
   "execution_count": 14,
   "id": "bf667679-2ebd-40d1-abd0-17f602d6d66e",
   "metadata": {},
   "outputs": [
    {
     "name": "stdout",
     "output_type": "stream",
     "text": [
      "gender\n",
      "Female    59\n",
      "Male      41\n",
      "Name: count, dtype: int64 city\n",
      "Kolkata      32\n",
      "Bangalore    30\n",
      "Delhi        22\n",
      "Mumbai       16\n",
      "Name: count, dtype: int64\n"
     ]
    }
   ],
   "source": [
    "print(df[\"gender\"].value_counts(), df[\"city\"].value_counts())"
   ]
  },
  {
   "cell_type": "code",
   "execution_count": 15,
   "id": "c8949c73-a2e3-46dc-bf5e-9fba28339cb4",
   "metadata": {},
   "outputs": [
    {
     "name": "stdout",
     "output_type": "stream",
     "text": [
      "cough\n",
      "Mild      62\n",
      "Strong    38\n",
      "Name: count, dtype: int64\n"
     ]
    }
   ],
   "source": [
    "print(df[\"cough\"].value_counts())"
   ]
  },
  {
   "cell_type": "code",
   "execution_count": 17,
   "id": "ed37f430-8472-468f-89b2-609291e95afc",
   "metadata": {},
   "outputs": [
    {
     "data": {
      "text/plain": [
       "age           0\n",
       "gender        0\n",
       "fever        10\n",
       "cough         0\n",
       "city          0\n",
       "has_covid     0\n",
       "dtype: int64"
      ]
     },
     "execution_count": 17,
     "metadata": {},
     "output_type": "execute_result"
    }
   ],
   "source": [
    "df.isnull().sum()"
   ]
  },
  {
   "cell_type": "code",
   "execution_count": 9,
   "id": "4d80ed1d-27ab-416f-b5fa-bfad5ec6b790",
   "metadata": {},
   "outputs": [],
   "source": [
    "from sklearn.impute import SimpleImputer\n",
    "from sklearn.preprocessing import OneHotEncoder\n",
    "from sklearn.preprocessing import OrdinalEncoder\n"
   ]
  },
  {
   "cell_type": "code",
   "execution_count": 11,
   "id": "b64c8a1e-c08b-4b04-bb50-6031acc08ca7",
   "metadata": {},
   "outputs": [],
   "source": [
    "from sklearn.model_selection import train_test_split\n",
    "X_train,X_test,y_train, y_test = train_test_split(df.drop(columns = [\"has_covid\"]),df[\"has_covid\"], test_size = 0.2)"
   ]
  },
  {
   "cell_type": "markdown",
   "id": "40966c60-de86-401c-98d6-1036008ab9d9",
   "metadata": {},
   "source": [
    "## Aam Zindgi"
   ]
  },
  {
   "cell_type": "code",
   "execution_count": 24,
   "id": "d5afa439-a83e-4418-87ca-99e6f7d56048",
   "metadata": {},
   "outputs": [
    {
     "data": {
      "text/plain": [
       "(80, 1)"
      ]
     },
     "execution_count": 24,
     "metadata": {},
     "output_type": "execute_result"
    }
   ],
   "source": [
    "## Adding simple imputer to fever column\n",
    "\n",
    "si = SimpleImputer()\n",
    "# train data\n",
    "X_train_fever = si.fit_transform(X_train[[\"fever\"]])\n",
    "\n",
    "# test data\n",
    "X_test_fever = si.transform(X_test[[\"fever\"]])\n",
    "\n",
    "X_train_fever.shape"
   ]
  },
  {
   "cell_type": "code",
   "execution_count": 31,
   "id": "6a044310-e37b-463b-8673-7801074d1ab3",
   "metadata": {},
   "outputs": [
    {
     "data": {
      "text/plain": [
       "(80, 1)"
      ]
     },
     "execution_count": 31,
     "metadata": {},
     "output_type": "execute_result"
    }
   ],
   "source": [
    "# Ordinal Enc on Cough column\n",
    "oe = OrdinalEncoder(categories =[[\"Mild\",\"Strong\"]])\n",
    "#train data\n",
    "X_train_cough = oe.fit_transform(X_train[[\"cough\"]])\n",
    "\n",
    "# test data\n",
    "X_test_cough = oe.transform(X_test[[\"cough\"]])\n",
    "\n",
    "\n",
    "X_train_cough.shape\n"
   ]
  },
  {
   "cell_type": "code",
   "execution_count": 38,
   "id": "335d0da0-559a-4a01-b8eb-08743b92fcb7",
   "metadata": {},
   "outputs": [
    {
     "data": {
      "text/plain": [
       "(80, 4)"
      ]
     },
     "execution_count": 38,
     "metadata": {},
     "output_type": "execute_result"
    }
   ],
   "source": [
    "# One Hot Encoding --> Gender, City\n",
    "\n",
    "ohe = OneHotEncoder(drop = \"first\",sparse_output = False,dtype = int)\n",
    "\n",
    "#train data\n",
    "X_train_gender_city = ohe.fit_transform(X_train[[\"gender\", \"city\"]])\n",
    "\n",
    "#test data\n",
    "X_test_gender_city = ohe.transform(X_test[[\"gender\",\"city\"]])\n",
    "\n",
    "X_train_gender_city.shape"
   ]
  },
  {
   "cell_type": "code",
   "execution_count": 46,
   "id": "5ca4fef9-ead6-4d19-be1c-e3bbfc0b427c",
   "metadata": {},
   "outputs": [],
   "source": [
    "#Extracting Age\n",
    "X_train_age = X_train[[\"age\"]].values\n",
    "X_test_age = X_test[[\"age\"]].values\n",
    "\n",
    "# X_train_age"
   ]
  },
  {
   "cell_type": "code",
   "execution_count": 47,
   "id": "a07d64f6-3b15-471a-93bf-f0c0b231e591",
   "metadata": {},
   "outputs": [],
   "source": [
    "# concatenateing all to get the original X_train and X_test (transformed)\n",
    "X_train_trf = np.concatenate((X_train_age, X_train_fever,X_train_gender_city,X_train_cough), axis = 1)\n",
    "X_test_trf =  np.concatenate((X_test_age, X_test_fever,X_test_gender_city,X_test_cough), axis = 1)"
   ]
  },
  {
   "cell_type": "markdown",
   "id": "4d0b51ba-0c81-465c-a610-0ef4820d4f81",
   "metadata": {},
   "source": [
    "## Mentos Zindgi"
   ]
  },
  {
   "cell_type": "code",
   "execution_count": 50,
   "id": "e67611cc-79e8-4d8c-8bef-cded94028432",
   "metadata": {},
   "outputs": [],
   "source": [
    "from sklearn.compose import ColumnTransformer\n"
   ]
  },
  {
   "cell_type": "code",
   "execution_count": 63,
   "id": "f6915856-f2e1-417c-9853-15d3b70427b3",
   "metadata": {},
   "outputs": [],
   "source": [
    "transformer =ColumnTransformer(transformers = [\n",
    "    (\"tnf1\",SimpleImputer(),[\"fever\"]),\n",
    "    (\"tnf2\",OrdinalEncoder(categories = [[\"Mild\", \"Strong\"]]),[\"cough\"]),\n",
    "    (\"tnf3\", OneHotEncoder(drop = \"first\",sparse_output = False, dtype = int), [\"gender\",\"city\"])\n",
    "],\n",
    "                              remainder = \"passthrough\", verbose_feature_names_out = True)"
   ]
  },
  {
   "cell_type": "code",
   "execution_count": 67,
   "id": "e604f868-9fb5-40b8-b9ad-c304016876e3",
   "metadata": {},
   "outputs": [],
   "source": [
    "transformer.fit(X_train)\n",
    "\n",
    "X_train_trf = transformer.transform(X_train)\n",
    "X_test_trf = transformer.transform(X_test)"
   ]
  },
  {
   "cell_type": "code",
   "execution_count": 77,
   "id": "3359ae6c-981e-4f7e-a155-ab405470975a",
   "metadata": {},
   "outputs": [],
   "source": [
    "cols = transformer.get_feature_names_out().tolist()\n",
    "col_names = []\n",
    "for name in cols:\n",
    "    new = name.split(\"__\")[1]\n",
    "    \n",
    "    col_names.append(new)"
   ]
  },
  {
   "cell_type": "code",
   "execution_count": 80,
   "id": "75d43f7e-441c-48e9-910f-baf767fe593f",
   "metadata": {},
   "outputs": [],
   "source": [
    "X_train_trf = pd.DataFrame(X_train_trf)\n",
    "X_train_trf.columns = col_names\n",
    "X_test_trf = pd.DataFrame(X_test_trf)\n",
    "X_test_trf.columns = col_names\n"
   ]
  },
  {
   "cell_type": "code",
   "execution_count": 82,
   "id": "cb46c34d-bf79-41f3-b514-28240ec89a6a",
   "metadata": {},
   "outputs": [],
   "source": [
    "for col in X_train_trf.columns:\n",
    "    if X_train_trf[col].dtype == \"float\":\n",
    "        X_train_trf[col] = X_train_trf[col].astype(int)\n",
    "        X_test_trf[col] = X_train_trf[col].astype(int)\n",
    "        \n",
    "    "
   ]
  },
  {
   "cell_type": "code",
   "execution_count": 83,
   "id": "5c69231c-c24d-4de2-b404-f61404234045",
   "metadata": {},
   "outputs": [
    {
     "data": {
      "text/html": [
       "<div>\n",
       "<style scoped>\n",
       "    .dataframe tbody tr th:only-of-type {\n",
       "        vertical-align: middle;\n",
       "    }\n",
       "\n",
       "    .dataframe tbody tr th {\n",
       "        vertical-align: top;\n",
       "    }\n",
       "\n",
       "    .dataframe thead th {\n",
       "        text-align: right;\n",
       "    }\n",
       "</style>\n",
       "<table border=\"1\" class=\"dataframe\">\n",
       "  <thead>\n",
       "    <tr style=\"text-align: right;\">\n",
       "      <th></th>\n",
       "      <th>fever</th>\n",
       "      <th>cough</th>\n",
       "      <th>gender_Male</th>\n",
       "      <th>city_Delhi</th>\n",
       "      <th>city_Kolkata</th>\n",
       "      <th>city_Mumbai</th>\n",
       "      <th>age</th>\n",
       "    </tr>\n",
       "  </thead>\n",
       "  <tbody>\n",
       "    <tr>\n",
       "      <th>0</th>\n",
       "      <td>102</td>\n",
       "      <td>1</td>\n",
       "      <td>0</td>\n",
       "      <td>0</td>\n",
       "      <td>0</td>\n",
       "      <td>0</td>\n",
       "      <td>82</td>\n",
       "    </tr>\n",
       "    <tr>\n",
       "      <th>1</th>\n",
       "      <td>98</td>\n",
       "      <td>0</td>\n",
       "      <td>0</td>\n",
       "      <td>0</td>\n",
       "      <td>0</td>\n",
       "      <td>1</td>\n",
       "      <td>65</td>\n",
       "    </tr>\n",
       "    <tr>\n",
       "      <th>2</th>\n",
       "      <td>102</td>\n",
       "      <td>1</td>\n",
       "      <td>1</td>\n",
       "      <td>1</td>\n",
       "      <td>0</td>\n",
       "      <td>0</td>\n",
       "      <td>20</td>\n",
       "    </tr>\n",
       "    <tr>\n",
       "      <th>3</th>\n",
       "      <td>103</td>\n",
       "      <td>1</td>\n",
       "      <td>1</td>\n",
       "      <td>0</td>\n",
       "      <td>0</td>\n",
       "      <td>0</td>\n",
       "      <td>46</td>\n",
       "    </tr>\n",
       "    <tr>\n",
       "      <th>4</th>\n",
       "      <td>101</td>\n",
       "      <td>1</td>\n",
       "      <td>0</td>\n",
       "      <td>0</td>\n",
       "      <td>1</td>\n",
       "      <td>0</td>\n",
       "      <td>51</td>\n",
       "    </tr>\n",
       "    <tr>\n",
       "      <th>...</th>\n",
       "      <td>...</td>\n",
       "      <td>...</td>\n",
       "      <td>...</td>\n",
       "      <td>...</td>\n",
       "      <td>...</td>\n",
       "      <td>...</td>\n",
       "      <td>...</td>\n",
       "    </tr>\n",
       "    <tr>\n",
       "      <th>75</th>\n",
       "      <td>99</td>\n",
       "      <td>0</td>\n",
       "      <td>1</td>\n",
       "      <td>1</td>\n",
       "      <td>0</td>\n",
       "      <td>0</td>\n",
       "      <td>65</td>\n",
       "    </tr>\n",
       "    <tr>\n",
       "      <th>76</th>\n",
       "      <td>98</td>\n",
       "      <td>0</td>\n",
       "      <td>1</td>\n",
       "      <td>0</td>\n",
       "      <td>1</td>\n",
       "      <td>0</td>\n",
       "      <td>24</td>\n",
       "    </tr>\n",
       "    <tr>\n",
       "      <th>77</th>\n",
       "      <td>100</td>\n",
       "      <td>1</td>\n",
       "      <td>1</td>\n",
       "      <td>0</td>\n",
       "      <td>1</td>\n",
       "      <td>0</td>\n",
       "      <td>79</td>\n",
       "    </tr>\n",
       "    <tr>\n",
       "      <th>78</th>\n",
       "      <td>98</td>\n",
       "      <td>1</td>\n",
       "      <td>1</td>\n",
       "      <td>0</td>\n",
       "      <td>0</td>\n",
       "      <td>1</td>\n",
       "      <td>23</td>\n",
       "    </tr>\n",
       "    <tr>\n",
       "      <th>79</th>\n",
       "      <td>100</td>\n",
       "      <td>1</td>\n",
       "      <td>0</td>\n",
       "      <td>0</td>\n",
       "      <td>0</td>\n",
       "      <td>0</td>\n",
       "      <td>42</td>\n",
       "    </tr>\n",
       "  </tbody>\n",
       "</table>\n",
       "<p>80 rows × 7 columns</p>\n",
       "</div>"
      ],
      "text/plain": [
       "    fever  cough  gender_Male  city_Delhi  city_Kolkata  city_Mumbai  age\n",
       "0     102      1            0           0             0            0   82\n",
       "1      98      0            0           0             0            1   65\n",
       "2     102      1            1           1             0            0   20\n",
       "3     103      1            1           0             0            0   46\n",
       "4     101      1            0           0             1            0   51\n",
       "..    ...    ...          ...         ...           ...          ...  ...\n",
       "75     99      0            1           1             0            0   65\n",
       "76     98      0            1           0             1            0   24\n",
       "77    100      1            1           0             1            0   79\n",
       "78     98      1            1           0             0            1   23\n",
       "79    100      1            0           0             0            0   42\n",
       "\n",
       "[80 rows x 7 columns]"
      ]
     },
     "execution_count": 83,
     "metadata": {},
     "output_type": "execute_result"
    }
   ],
   "source": []
  },
  {
   "cell_type": "code",
   "execution_count": null,
   "id": "b2c589f8-7e04-433c-ada5-b6b09b0acfb0",
   "metadata": {},
   "outputs": [],
   "source": []
  }
 ],
 "metadata": {
  "kernelspec": {
   "display_name": "Python 3 (ipykernel)",
   "language": "python",
   "name": "python3"
  },
  "language_info": {
   "codemirror_mode": {
    "name": "ipython",
    "version": 3
   },
   "file_extension": ".py",
   "mimetype": "text/x-python",
   "name": "python",
   "nbconvert_exporter": "python",
   "pygments_lexer": "ipython3",
   "version": "3.12.2"
  }
 },
 "nbformat": 4,
 "nbformat_minor": 5
}
