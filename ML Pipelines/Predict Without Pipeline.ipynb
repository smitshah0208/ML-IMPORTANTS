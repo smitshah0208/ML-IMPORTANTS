{
 "cells": [
  {
   "cell_type": "code",
   "execution_count": 1,
   "id": "0f92728c-9eab-4383-b782-d4ef22b2f375",
   "metadata": {},
   "outputs": [],
   "source": [
    "import pickle \n",
    "import numpy as np"
   ]
  },
  {
   "cell_type": "code",
   "execution_count": 2,
   "id": "866e4241-4733-41d7-bd49-567c01625934",
   "metadata": {},
   "outputs": [],
   "source": [
    "ohe_sex = pickle.load(open(\"models/ohe_sex.pkl\", \"rb\"))\n",
    "ohe_embarked = pickle.load(open(\"models/ohe_embarked.pkl\", \"rb\"))\n",
    "clf = pickle.load(open(\"models/clf.pkl\", \"rb\"))\n"
   ]
  },
  {
   "cell_type": "code",
   "execution_count": 28,
   "id": "9156e9c0-2615-4ed8-b486-5cf57e32dad8",
   "metadata": {},
   "outputs": [],
   "source": [
    "#Assume User input\n",
    "# Pclass/gender/age/SibSp/Parch/Fare/Embarked\n",
    "test_input= np.array([2, \"male\",31.0, 0,0,1.5,\"S\"],dtype = \"object\").reshape(1,7)"
   ]
  },
  {
   "cell_type": "code",
   "execution_count": 29,
   "id": "e1741d09-b5d9-42bb-b5d0-53ee0cbfc666",
   "metadata": {},
   "outputs": [
    {
     "name": "stderr",
     "output_type": "stream",
     "text": [
      "C:\\Users\\Admin\\AppData\\Local\\Programs\\Python\\Python312\\Lib\\site-packages\\sklearn\\base.py:493: UserWarning: X does not have valid feature names, but OneHotEncoder was fitted with feature names\n",
      "  warnings.warn(\n"
     ]
    }
   ],
   "source": [
    "test_input_sex = ohe_sex.transform(test_input[:,1].reshape(-1,1))"
   ]
  },
  {
   "cell_type": "code",
   "execution_count": 30,
   "id": "ea625d6e-b33a-4390-98c7-f58169e206f5",
   "metadata": {},
   "outputs": [],
   "source": [
    "test_input_embarked = ohe_embarked.transform(test_input[:,-1].reshape(-1,1))"
   ]
  },
  {
   "cell_type": "code",
   "execution_count": 31,
   "id": "f6dcc6ec-8a25-4fc6-9b43-6a472b6fce96",
   "metadata": {},
   "outputs": [],
   "source": [
    "test_input_age = test_input[:,2].reshape(-1,1)"
   ]
  },
  {
   "cell_type": "code",
   "execution_count": 32,
   "id": "6c2873b6-3b89-42a8-8a16-7e6cdfe7912c",
   "metadata": {},
   "outputs": [],
   "source": [
    "test_input_trf = np.concatenate((test_input[:,[0,3,4,5]], test_input_age,test_input_sex,test_input_embarked),axis = 1)"
   ]
  },
  {
   "cell_type": "code",
   "execution_count": 33,
   "id": "36ad54e4-d192-47a0-bf69-0fa7b9bbe466",
   "metadata": {},
   "outputs": [
    {
     "data": {
      "text/plain": [
       "(1, 10)"
      ]
     },
     "execution_count": 33,
     "metadata": {},
     "output_type": "execute_result"
    }
   ],
   "source": [
    "test_input_trf.shape"
   ]
  },
  {
   "cell_type": "code",
   "execution_count": 34,
   "id": "891f4088-b9bc-4eec-94c3-a2abf0231703",
   "metadata": {},
   "outputs": [
    {
     "data": {
      "text/plain": [
       "array([[2, 0, 0, 1.5, 31.0, 0.0, 1.0, 0.0, 0.0, 1.0]], dtype=object)"
      ]
     },
     "execution_count": 34,
     "metadata": {},
     "output_type": "execute_result"
    }
   ],
   "source": [
    "test_input_trf"
   ]
  },
  {
   "cell_type": "code",
   "execution_count": 35,
   "id": "08a26b55-0674-4578-8bbc-d2457148178e",
   "metadata": {},
   "outputs": [
    {
     "data": {
      "text/plain": [
       "array([0], dtype=int64)"
      ]
     },
     "execution_count": 35,
     "metadata": {},
     "output_type": "execute_result"
    }
   ],
   "source": [
    "clf.predict(test_input_trf)"
   ]
  },
  {
   "cell_type": "code",
   "execution_count": null,
   "id": "5322d039-09d6-424b-ba07-bb5b33a4f378",
   "metadata": {},
   "outputs": [],
   "source": []
  },
  {
   "cell_type": "code",
   "execution_count": null,
   "id": "6dcc621f-ced4-4916-a9e7-6e5408061ade",
   "metadata": {},
   "outputs": [],
   "source": []
  }
 ],
 "metadata": {
  "kernelspec": {
   "display_name": "Python 3 (ipykernel)",
   "language": "python",
   "name": "python3"
  },
  "language_info": {
   "codemirror_mode": {
    "name": "ipython",
    "version": 3
   },
   "file_extension": ".py",
   "mimetype": "text/x-python",
   "name": "python",
   "nbconvert_exporter": "python",
   "pygments_lexer": "ipython3",
   "version": "3.12.2"
  }
 },
 "nbformat": 4,
 "nbformat_minor": 5
}
