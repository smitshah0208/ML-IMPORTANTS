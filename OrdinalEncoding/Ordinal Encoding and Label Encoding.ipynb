{
 "cells": [
  {
   "cell_type": "code",
   "execution_count": 1,
   "id": "463232cf-4069-4031-bb82-7e3a221831bc",
   "metadata": {},
   "outputs": [],
   "source": [
    "import numpy as np\n",
    "import pandas as pd"
   ]
  },
  {
   "cell_type": "code",
   "execution_count": 2,
   "id": "390f125f-6aef-43f3-ac89-792ddedb7e19",
   "metadata": {},
   "outputs": [],
   "source": [
    "df = pd.read_csv(\"customer.csv\")"
   ]
  },
  {
   "cell_type": "code",
   "execution_count": 3,
   "id": "991666e2-e65f-4ed8-857d-919956fcf9ac",
   "metadata": {},
   "outputs": [
    {
     "name": "stdout",
     "output_type": "stream",
     "text": [
      "<class 'pandas.core.frame.DataFrame'>\n",
      "RangeIndex: 50 entries, 0 to 49\n",
      "Data columns (total 5 columns):\n",
      " #   Column     Non-Null Count  Dtype \n",
      "---  ------     --------------  ----- \n",
      " 0   age        50 non-null     int64 \n",
      " 1   gender     50 non-null     object\n",
      " 2   review     50 non-null     object\n",
      " 3   education  50 non-null     object\n",
      " 4   purchased  50 non-null     object\n",
      "dtypes: int64(1), object(4)\n",
      "memory usage: 2.1+ KB\n"
     ]
    }
   ],
   "source": [
    "df.info()"
   ]
  },
  {
   "cell_type": "code",
   "execution_count": 4,
   "id": "4cdeb853-36db-4c2b-8c71-e848151f18f2",
   "metadata": {},
   "outputs": [],
   "source": [
    "from sklearn.preprocessing import OrdinalEncoder\n",
    "from sklearn.preprocessing import OneHotEncoder\n",
    "\n"
   ]
  },
  {
   "cell_type": "code",
   "execution_count": 5,
   "id": "49479875-01dc-4b0a-8795-74bc3b12bf3d",
   "metadata": {},
   "outputs": [],
   "source": [
    "df = df.iloc[:, 2:]"
   ]
  },
  {
   "cell_type": "code",
   "execution_count": 6,
   "id": "c3da1d25-3817-4b1b-9bbd-64f499657d75",
   "metadata": {},
   "outputs": [],
   "source": [
    "from sklearn.model_selection import train_test_split\n",
    "X_train, X_test, y_train, y_test = train_test_split(df.iloc[:, 0:2], df.iloc[:,-1], test_size = 0.2)"
   ]
  },
  {
   "cell_type": "code",
   "execution_count": 7,
   "id": "b982c1b4-b953-4609-b569-7bc247cc3e68",
   "metadata": {},
   "outputs": [],
   "source": [
    "# ordinal encoding\n",
    "ord =OrdinalEncoder(categories= [[\"Poor\",\"Average\",\"Good\"], [\"School\",\"UG\",\"PG\"]])\n",
    "\n",
    "X_train = ord.fit_transform(X_train)\n",
    "X_test = ord.transform(X_test)"
   ]
  },
  {
   "cell_type": "code",
   "execution_count": 8,
   "id": "e4459421-2a72-4d7d-898a-4248aa3e1759",
   "metadata": {},
   "outputs": [],
   "source": [
    "from sklearn.preprocessing import LabelEncoder\n",
    "le = LabelEncoder()  \n",
    "\n",
    "y_train = le.fit_transform(y_train)\n",
    "y_test = le.transform(y_test)\n"
   ]
  },
  {
   "cell_type": "code",
   "execution_count": 10,
   "id": "57a5c53f-6e3f-4207-8e72-7ee2946822fb",
   "metadata": {},
   "outputs": [
    {
     "data": {
      "text/plain": [
       "array(['No', 'Yes'], dtype=object)"
      ]
     },
     "execution_count": 10,
     "metadata": {},
     "output_type": "execute_result"
    }
   ],
   "source": [
    "le.classes_"
   ]
  },
  {
   "cell_type": "code",
   "execution_count": null,
   "id": "fe851153-ee72-470a-bb17-cb047d10ea1c",
   "metadata": {},
   "outputs": [],
   "source": [
    "# One Hot Encoding\n",
    "ohe = OneHotEncoding()\n"
   ]
  }
 ],
 "metadata": {
  "kernelspec": {
   "display_name": "Python 3 (ipykernel)",
   "language": "python",
   "name": "python3"
  },
  "language_info": {
   "codemirror_mode": {
    "name": "ipython",
    "version": 3
   },
   "file_extension": ".py",
   "mimetype": "text/x-python",
   "name": "python",
   "nbconvert_exporter": "python",
   "pygments_lexer": "ipython3",
   "version": "3.12.2"
  }
 },
 "nbformat": 4,
 "nbformat_minor": 5
}
